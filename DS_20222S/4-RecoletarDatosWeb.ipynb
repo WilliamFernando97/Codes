{
 "cells": [
  {
   "cell_type": "code",
   "execution_count": 1,
   "metadata": {},
   "outputs": [],
   "source": [
    "from selenium import webdriver\n",
    "from selenium.webdriver.common.by import By\n",
    "import csv"
   ]
  },
  {
   "cell_type": "code",
   "execution_count": 2,
   "metadata": {},
   "outputs": [],
   "source": [
    "driver = webdriver.Firefox()"
   ]
  },
  {
   "cell_type": "code",
   "execution_count": 3,
   "metadata": {},
   "outputs": [],
   "source": [
    "driver.get(\"https://books.toscrape.com/\")"
   ]
  },
  {
   "cell_type": "code",
   "execution_count": 4,
   "metadata": {},
   "outputs": [],
   "source": [
    "n = driver.find_element(By.XPATH,\"//li[@class='current']\").text"
   ]
  },
  {
   "cell_type": "code",
   "execution_count": 5,
   "metadata": {},
   "outputs": [],
   "source": [
    "n = int(n.split()[-1])"
   ]
  },
  {
   "cell_type": "code",
   "execution_count": 6,
   "metadata": {},
   "outputs": [
    {
     "data": {
      "text/plain": [
       "50"
      ]
     },
     "execution_count": 6,
     "metadata": {},
     "output_type": "execute_result"
    }
   ],
   "source": [
    "n"
   ]
  },
  {
   "cell_type": "code",
   "execution_count": 7,
   "metadata": {},
   "outputs": [
    {
     "name": "stdout",
     "output_type": "stream",
     "text": [
      "Ya no hay mas libros\n"
     ]
    }
   ],
   "source": [
    "with open(\"books.csv\", \"w\", encoding='UTF8', newline='') as f:\n",
    "    writer = csv.writer(f)\n",
    "    for i in range(n):\n",
    "        articles = driver.find_elements(By.CLASS_NAME,\"product_pod\")\n",
    "        for art in articles:\n",
    "            a = art.find_element(By.XPATH,\"h3/a\")\n",
    "            p = art.find_element(By.CLASS_NAME,\"price_color\")\n",
    "            p_s = art.find_element(By.XPATH,\"div/p[@class='instock availability']\")\n",
    "            writer.writerow([a.get_property(\"title\"),p.text.replace(\"£\",\"\"),p_s.text])\n",
    "        try:\n",
    "            link_next = driver.find_element(By.XPATH,\"//li[@class='next']/a\")\n",
    "            link_next.click()\n",
    "        except:\n",
    "            print(\"Ya no hay mas libros\")"
   ]
  }
 ],
 "metadata": {
  "kernelspec": {
   "display_name": "Python 3",
   "language": "python",
   "name": "python3"
  },
  "language_info": {
   "codemirror_mode": {
    "name": "ipython",
    "version": 3
   },
   "file_extension": ".py",
   "mimetype": "text/x-python",
   "name": "python",
   "nbconvert_exporter": "python",
   "pygments_lexer": "ipython3",
   "version": "3.7.7"
  }
 },
 "nbformat": 4,
 "nbformat_minor": 4
}
