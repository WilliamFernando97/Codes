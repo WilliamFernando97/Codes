{
 "cells": [
  {
   "cell_type": "code",
   "execution_count": 39,
   "metadata": {},
   "outputs": [],
   "source": [
    "import pandas as pd\n",
    "import numpy as np\n",
    "import matplotlib.pyplot as plt\n",
    "import seaborn as sns\n",
    "from datetime import datetime\n",
    "from matplotlib.ticker import PercentFormatter\n",
    "import plotly.graph_objects as go\n",
    "import plotly.express as px\n",
    "import geopandas as gpd\n",
    "import skmob\n",
    "from skmob.preprocessing import detection"
   ]
  },
  {
   "cell_type": "code",
   "execution_count": 40,
   "metadata": {},
   "outputs": [],
   "source": [
    "ventas_tri1_df = pd.read_csv(\"../../data/output/tri1.zip\")\n",
    "ventas_tri2_df = pd.read_csv(\"../../data/output/tri2.zip\")\n",
    "ventas_tri3_df = pd.read_csv(\"../../data/output/tri3.zip\")\n",
    "ventas_tri4_df = pd.read_csv(\"../../data/output/tri4.zip\")\n",
    "hiper_df = pd.read_csv(\"../../data/output/hiper_out.zip\")"
   ]
  },
  {
   "cell_type": "code",
   "execution_count": 41,
   "metadata": {},
   "outputs": [
    {
     "data": {
      "text/html": [
       "<div>\n",
       "<style scoped>\n",
       "    .dataframe tbody tr th:only-of-type {\n",
       "        vertical-align: middle;\n",
       "    }\n",
       "\n",
       "    .dataframe tbody tr th {\n",
       "        vertical-align: top;\n",
       "    }\n",
       "\n",
       "    .dataframe thead th {\n",
       "        text-align: right;\n",
       "    }\n",
       "</style>\n",
       "<table border=\"1\" class=\"dataframe\">\n",
       "  <thead>\n",
       "    <tr style=\"text-align: right;\">\n",
       "      <th></th>\n",
       "      <th>fecha</th>\n",
       "      <th>hora</th>\n",
       "      <th>grupo</th>\n",
       "      <th>cadena</th>\n",
       "      <th>comercio</th>\n",
       "      <th>proveedor</th>\n",
       "      <th>producto</th>\n",
       "      <th>medio</th>\n",
       "      <th>total</th>\n",
       "      <th>cliente_final</th>\n",
       "      <th>saldo_despues</th>\n",
       "    </tr>\n",
       "  </thead>\n",
       "  <tbody>\n",
       "    <tr>\n",
       "      <th>0</th>\n",
       "      <td>2019-01-03</td>\n",
       "      <td>10:34:48</td>\n",
       "      <td>408</td>\n",
       "      <td>1632</td>\n",
       "      <td>58553</td>\n",
       "      <td>83</td>\n",
       "      <td>2</td>\n",
       "      <td>78</td>\n",
       "      <td>1.00</td>\n",
       "      <td>%...&amp;*.'!.</td>\n",
       "      <td>48730.39</td>\n",
       "    </tr>\n",
       "    <tr>\n",
       "      <th>1</th>\n",
       "      <td>2019-01-31</td>\n",
       "      <td>14:08:53</td>\n",
       "      <td>25</td>\n",
       "      <td>205</td>\n",
       "      <td>43917</td>\n",
       "      <td>5</td>\n",
       "      <td>15</td>\n",
       "      <td>3</td>\n",
       "      <td>1.00</td>\n",
       "      <td>%...&amp;*%%+.</td>\n",
       "      <td>658.64</td>\n",
       "    </tr>\n",
       "    <tr>\n",
       "      <th>2</th>\n",
       "      <td>2019-01-04</td>\n",
       "      <td>08:18:08</td>\n",
       "      <td>25</td>\n",
       "      <td>338</td>\n",
       "      <td>47039</td>\n",
       "      <td>144</td>\n",
       "      <td>2</td>\n",
       "      <td>78</td>\n",
       "      <td>52.64</td>\n",
       "      <td>).%..-</td>\n",
       "      <td>1561.34</td>\n",
       "    </tr>\n",
       "    <tr>\n",
       "      <th>3</th>\n",
       "      <td>2019-01-03</td>\n",
       "      <td>07:53:27</td>\n",
       "      <td>25</td>\n",
       "      <td>1034</td>\n",
       "      <td>20011</td>\n",
       "      <td>6</td>\n",
       "      <td>2</td>\n",
       "      <td>3</td>\n",
       "      <td>10.00</td>\n",
       "      <td>%.+&amp;(&amp;+%)*</td>\n",
       "      <td>622.69</td>\n",
       "    </tr>\n",
       "    <tr>\n",
       "      <th>4</th>\n",
       "      <td>2019-01-18</td>\n",
       "      <td>14:13:30</td>\n",
       "      <td>4</td>\n",
       "      <td>8</td>\n",
       "      <td>30240</td>\n",
       "      <td>5</td>\n",
       "      <td>15</td>\n",
       "      <td>78</td>\n",
       "      <td>1.00</td>\n",
       "      <td>%.+.-)!!&amp;)</td>\n",
       "      <td>168.44</td>\n",
       "    </tr>\n",
       "  </tbody>\n",
       "</table>\n",
       "</div>"
      ],
      "text/plain": [
       "        fecha      hora  grupo  cadena  comercio  proveedor  producto  medio  \\\n",
       "0  2019-01-03  10:34:48    408    1632     58553         83         2     78   \n",
       "1  2019-01-31  14:08:53     25     205     43917          5        15      3   \n",
       "2  2019-01-04  08:18:08     25     338     47039        144         2     78   \n",
       "3  2019-01-03  07:53:27     25    1034     20011          6         2      3   \n",
       "4  2019-01-18  14:13:30      4       8     30240          5        15     78   \n",
       "\n",
       "   total cliente_final  saldo_despues  \n",
       "0   1.00    %...&*.'!.       48730.39  \n",
       "1   1.00    %...&*%%+.         658.64  \n",
       "2  52.64        ).%..-        1561.34  \n",
       "3  10.00    %.+&(&+%)*         622.69  \n",
       "4   1.00    %.+.-)!!&)         168.44  "
      ]
     },
     "execution_count": 41,
     "metadata": {},
     "output_type": "execute_result"
    }
   ],
   "source": [
    "ventas_tri1_df.head()"
   ]
  },
  {
   "cell_type": "code",
   "execution_count": 42,
   "metadata": {},
   "outputs": [
    {
     "data": {
      "text/plain": [
       "90567    32\n",
       "92176     5\n",
       "39969     1\n",
       "46624     1\n",
       "39177     1\n",
       "Name: comercio, dtype: int64"
      ]
     },
     "execution_count": 42,
     "metadata": {},
     "output_type": "execute_result"
    }
   ],
   "source": [
    "ventas_tri1_df_test = ventas_tri1_df.loc[ventas_tri1_df['cliente_final'] == \"%.-&&!'.++\"]\n",
    "ventas_tri1_df_test['comercio'].value_counts()"
   ]
  },
  {
   "cell_type": "code",
   "execution_count": 43,
   "metadata": {},
   "outputs": [
    {
     "data": {
      "text/html": [
       "<div>\n",
       "<style scoped>\n",
       "    .dataframe tbody tr th:only-of-type {\n",
       "        vertical-align: middle;\n",
       "    }\n",
       "\n",
       "    .dataframe tbody tr th {\n",
       "        vertical-align: top;\n",
       "    }\n",
       "\n",
       "    .dataframe thead th {\n",
       "        text-align: right;\n",
       "    }\n",
       "</style>\n",
       "<table border=\"1\" class=\"dataframe\">\n",
       "  <thead>\n",
       "    <tr style=\"text-align: right;\">\n",
       "      <th></th>\n",
       "      <th>fecha_ingreso</th>\n",
       "      <th>grupo</th>\n",
       "      <th>cadena</th>\n",
       "      <th>comercio</th>\n",
       "      <th>estado</th>\n",
       "      <th>pais</th>\n",
       "      <th>region</th>\n",
       "      <th>provincia</th>\n",
       "      <th>ciudad</th>\n",
       "      <th>zona</th>\n",
       "      <th>ejecutivo</th>\n",
       "      <th>latitud</th>\n",
       "      <th>longitud</th>\n",
       "    </tr>\n",
       "  </thead>\n",
       "  <tbody>\n",
       "    <tr>\n",
       "      <th>0</th>\n",
       "      <td>2019-01-02</td>\n",
       "      <td>4</td>\n",
       "      <td>4</td>\n",
       "      <td>90090</td>\n",
       "      <td>1</td>\n",
       "      <td>1.0</td>\n",
       "      <td>2.0</td>\n",
       "      <td>1542.0</td>\n",
       "      <td>1564.0</td>\n",
       "      <td>7.0</td>\n",
       "      <td>326.0</td>\n",
       "      <td>-3.327939</td>\n",
       "      <td>-79.807340</td>\n",
       "    </tr>\n",
       "    <tr>\n",
       "      <th>1</th>\n",
       "      <td>2019-01-02</td>\n",
       "      <td>62</td>\n",
       "      <td>266</td>\n",
       "      <td>90088</td>\n",
       "      <td>BT</td>\n",
       "      <td>1.0</td>\n",
       "      <td>2.0</td>\n",
       "      <td>5.0</td>\n",
       "      <td>27.0</td>\n",
       "      <td>33.0</td>\n",
       "      <td>20.0</td>\n",
       "      <td>0.000000</td>\n",
       "      <td>0.000000</td>\n",
       "    </tr>\n",
       "    <tr>\n",
       "      <th>2</th>\n",
       "      <td>2019-01-02</td>\n",
       "      <td>4</td>\n",
       "      <td>4</td>\n",
       "      <td>90091</td>\n",
       "      <td>BT</td>\n",
       "      <td>1.0</td>\n",
       "      <td>2.0</td>\n",
       "      <td>4.0</td>\n",
       "      <td>45.0</td>\n",
       "      <td>26.0</td>\n",
       "      <td>367.0</td>\n",
       "      <td>-1.715146</td>\n",
       "      <td>-79.864203</td>\n",
       "    </tr>\n",
       "    <tr>\n",
       "      <th>3</th>\n",
       "      <td>2019-01-02</td>\n",
       "      <td>168</td>\n",
       "      <td>647</td>\n",
       "      <td>90089</td>\n",
       "      <td>0</td>\n",
       "      <td>1.0</td>\n",
       "      <td>2.0</td>\n",
       "      <td>973.0</td>\n",
       "      <td>1017.0</td>\n",
       "      <td>33.0</td>\n",
       "      <td>20.0</td>\n",
       "      <td>0.000000</td>\n",
       "      <td>0.000000</td>\n",
       "    </tr>\n",
       "    <tr>\n",
       "      <th>4</th>\n",
       "      <td>2019-01-03</td>\n",
       "      <td>88</td>\n",
       "      <td>381</td>\n",
       "      <td>90100</td>\n",
       "      <td>1</td>\n",
       "      <td>1.0</td>\n",
       "      <td>3.0</td>\n",
       "      <td>968.0</td>\n",
       "      <td>1409.0</td>\n",
       "      <td>13.0</td>\n",
       "      <td>349.0</td>\n",
       "      <td>0.000000</td>\n",
       "      <td>0.000000</td>\n",
       "    </tr>\n",
       "  </tbody>\n",
       "</table>\n",
       "</div>"
      ],
      "text/plain": [
       "  fecha_ingreso  grupo  cadena  comercio estado  pais  region  provincia  \\\n",
       "0    2019-01-02      4       4     90090      1   1.0     2.0     1542.0   \n",
       "1    2019-01-02     62     266     90088     BT   1.0     2.0        5.0   \n",
       "2    2019-01-02      4       4     90091     BT   1.0     2.0        4.0   \n",
       "3    2019-01-02    168     647     90089      0   1.0     2.0      973.0   \n",
       "4    2019-01-03     88     381     90100      1   1.0     3.0      968.0   \n",
       "\n",
       "   ciudad  zona  ejecutivo   latitud   longitud  \n",
       "0  1564.0   7.0      326.0 -3.327939 -79.807340  \n",
       "1    27.0  33.0       20.0  0.000000   0.000000  \n",
       "2    45.0  26.0      367.0 -1.715146 -79.864203  \n",
       "3  1017.0  33.0       20.0  0.000000   0.000000  \n",
       "4  1409.0  13.0      349.0  0.000000   0.000000  "
      ]
     },
     "execution_count": 43,
     "metadata": {},
     "output_type": "execute_result"
    }
   ],
   "source": [
    "hiper_df.head()"
   ]
  },
  {
   "cell_type": "code",
   "execution_count": 44,
   "metadata": {},
   "outputs": [
    {
     "data": {
      "text/html": [
       "<div>\n",
       "<style scoped>\n",
       "    .dataframe tbody tr th:only-of-type {\n",
       "        vertical-align: middle;\n",
       "    }\n",
       "\n",
       "    .dataframe tbody tr th {\n",
       "        vertical-align: top;\n",
       "    }\n",
       "\n",
       "    .dataframe thead th {\n",
       "        text-align: right;\n",
       "    }\n",
       "</style>\n",
       "<table border=\"1\" class=\"dataframe\">\n",
       "  <thead>\n",
       "    <tr style=\"text-align: right;\">\n",
       "      <th></th>\n",
       "      <th>fecha_ingreso</th>\n",
       "      <th>grupo</th>\n",
       "      <th>cadena</th>\n",
       "      <th>comercio</th>\n",
       "      <th>estado</th>\n",
       "      <th>pais</th>\n",
       "      <th>region</th>\n",
       "      <th>provincia</th>\n",
       "      <th>ciudad</th>\n",
       "      <th>zona</th>\n",
       "      <th>ejecutivo</th>\n",
       "      <th>latitud</th>\n",
       "      <th>longitud</th>\n",
       "    </tr>\n",
       "  </thead>\n",
       "  <tbody>\n",
       "    <tr>\n",
       "      <th>162</th>\n",
       "      <td>2019-01-28</td>\n",
       "      <td>25</td>\n",
       "      <td>197</td>\n",
       "      <td>90567</td>\n",
       "      <td>BT</td>\n",
       "      <td>1.0</td>\n",
       "      <td>2.0</td>\n",
       "      <td>4.0</td>\n",
       "      <td>24.0</td>\n",
       "      <td>2.0</td>\n",
       "      <td>373.0</td>\n",
       "      <td>-2.202628</td>\n",
       "      <td>-79.926652</td>\n",
       "    </tr>\n",
       "    <tr>\n",
       "      <th>2604</th>\n",
       "      <td>2019-01-28</td>\n",
       "      <td>25</td>\n",
       "      <td>197</td>\n",
       "      <td>90567</td>\n",
       "      <td>BT</td>\n",
       "      <td>1.0</td>\n",
       "      <td>2.0</td>\n",
       "      <td>4.0</td>\n",
       "      <td>24.0</td>\n",
       "      <td>2.0</td>\n",
       "      <td>373.0</td>\n",
       "      <td>-2.202628</td>\n",
       "      <td>-79.926652</td>\n",
       "    </tr>\n",
       "  </tbody>\n",
       "</table>\n",
       "</div>"
      ],
      "text/plain": [
       "     fecha_ingreso  grupo  cadena  comercio estado  pais  region  provincia  \\\n",
       "162     2019-01-28     25     197     90567     BT   1.0     2.0        4.0   \n",
       "2604    2019-01-28     25     197     90567     BT   1.0     2.0        4.0   \n",
       "\n",
       "      ciudad  zona  ejecutivo   latitud   longitud  \n",
       "162     24.0   2.0      373.0 -2.202628 -79.926652  \n",
       "2604    24.0   2.0      373.0 -2.202628 -79.926652  "
      ]
     },
     "execution_count": 44,
     "metadata": {},
     "output_type": "execute_result"
    }
   ],
   "source": [
    "test = hiper_df.loc[hiper_df['comercio'] == 90567];\n",
    "test"
   ]
  },
  {
   "cell_type": "code",
   "execution_count": 45,
   "metadata": {},
   "outputs": [],
   "source": [
    "hiper_df = hiper_df.drop_duplicates(keep='first')"
   ]
  },
  {
   "cell_type": "code",
   "execution_count": 46,
   "metadata": {},
   "outputs": [
    {
     "data": {
      "text/html": [
       "<div>\n",
       "<style scoped>\n",
       "    .dataframe tbody tr th:only-of-type {\n",
       "        vertical-align: middle;\n",
       "    }\n",
       "\n",
       "    .dataframe tbody tr th {\n",
       "        vertical-align: top;\n",
       "    }\n",
       "\n",
       "    .dataframe thead th {\n",
       "        text-align: right;\n",
       "    }\n",
       "</style>\n",
       "<table border=\"1\" class=\"dataframe\">\n",
       "  <thead>\n",
       "    <tr style=\"text-align: right;\">\n",
       "      <th></th>\n",
       "      <th>fecha_ingreso</th>\n",
       "      <th>grupo</th>\n",
       "      <th>cadena</th>\n",
       "      <th>comercio</th>\n",
       "      <th>estado</th>\n",
       "      <th>pais</th>\n",
       "      <th>region</th>\n",
       "      <th>provincia</th>\n",
       "      <th>ciudad</th>\n",
       "      <th>zona</th>\n",
       "      <th>ejecutivo</th>\n",
       "      <th>latitud</th>\n",
       "      <th>longitud</th>\n",
       "    </tr>\n",
       "  </thead>\n",
       "  <tbody>\n",
       "    <tr>\n",
       "      <th>162</th>\n",
       "      <td>2019-01-28</td>\n",
       "      <td>25</td>\n",
       "      <td>197</td>\n",
       "      <td>90567</td>\n",
       "      <td>BT</td>\n",
       "      <td>1.0</td>\n",
       "      <td>2.0</td>\n",
       "      <td>4.0</td>\n",
       "      <td>24.0</td>\n",
       "      <td>2.0</td>\n",
       "      <td>373.0</td>\n",
       "      <td>-2.202628</td>\n",
       "      <td>-79.926652</td>\n",
       "    </tr>\n",
       "  </tbody>\n",
       "</table>\n",
       "</div>"
      ],
      "text/plain": [
       "    fecha_ingreso  grupo  cadena  comercio estado  pais  region  provincia  \\\n",
       "162    2019-01-28     25     197     90567     BT   1.0     2.0        4.0   \n",
       "\n",
       "     ciudad  zona  ejecutivo   latitud   longitud  \n",
       "162    24.0   2.0      373.0 -2.202628 -79.926652  "
      ]
     },
     "execution_count": 46,
     "metadata": {},
     "output_type": "execute_result"
    }
   ],
   "source": [
    "test = hiper_df.loc[hiper_df['comercio'] == 90567];\n",
    "test"
   ]
  },
  {
   "cell_type": "code",
   "execution_count": 47,
   "metadata": {},
   "outputs": [],
   "source": [
    "hiper_df[\"fecha_ingreso\"] = pd.to_datetime(\n",
    "    hiper_df[\"fecha_ingreso\"].astype(str), format=\"%Y-%m-%d\")"
   ]
  },
  {
   "cell_type": "code",
   "execution_count": 48,
   "metadata": {},
   "outputs": [],
   "source": [
    "gdf_hiper = gpd.GeoDataFrame(hiper_df, geometry=gpd.points_from_xy(\n",
    "    hiper_df[\"longitud\"], hiper_df[\"latitud\"]))  # Crear geodataframe"
   ]
  },
  {
   "cell_type": "code",
   "execution_count": 49,
   "metadata": {},
   "outputs": [],
   "source": [
    "gye_quito_gdf = gpd.read_file('../../data/geojson/gye_quito.geojson')"
   ]
  },
  {
   "cell_type": "code",
   "execution_count": 50,
   "metadata": {},
   "outputs": [
    {
     "data": {
      "text/html": [
       "<div>\n",
       "<style scoped>\n",
       "    .dataframe tbody tr th:only-of-type {\n",
       "        vertical-align: middle;\n",
       "    }\n",
       "\n",
       "    .dataframe tbody tr th {\n",
       "        vertical-align: top;\n",
       "    }\n",
       "\n",
       "    .dataframe thead th {\n",
       "        text-align: right;\n",
       "    }\n",
       "</style>\n",
       "<table border=\"1\" class=\"dataframe\">\n",
       "  <thead>\n",
       "    <tr style=\"text-align: right;\">\n",
       "      <th></th>\n",
       "      <th>stroke</th>\n",
       "      <th>stroke-width</th>\n",
       "      <th>stroke-opacity</th>\n",
       "      <th>fill</th>\n",
       "      <th>fill-opacity</th>\n",
       "      <th>Name</th>\n",
       "      <th>Description</th>\n",
       "      <th>geometry</th>\n",
       "    </tr>\n",
       "  </thead>\n",
       "  <tbody>\n",
       "    <tr>\n",
       "      <th>0</th>\n",
       "      <td>#555555</td>\n",
       "      <td>2.0</td>\n",
       "      <td>1.0</td>\n",
       "      <td>#555555</td>\n",
       "      <td>0.5</td>\n",
       "      <td>Urbanizacion La Saiba</td>\n",
       "      <td>None</td>\n",
       "      <td>POLYGON ((-79.89851 -2.22271, -79.89738 -2.230...</td>\n",
       "    </tr>\n",
       "    <tr>\n",
       "      <th>1</th>\n",
       "      <td>#555555</td>\n",
       "      <td>2.0</td>\n",
       "      <td>1.0</td>\n",
       "      <td>#555555</td>\n",
       "      <td>0.5</td>\n",
       "      <td>Ciudadela 9 de Octubre</td>\n",
       "      <td>None</td>\n",
       "      <td>POLYGON ((-79.89676 -2.23578, -79.89084 -2.235...</td>\n",
       "    </tr>\n",
       "    <tr>\n",
       "      <th>2</th>\n",
       "      <td>#555555</td>\n",
       "      <td>2.0</td>\n",
       "      <td>1.0</td>\n",
       "      <td>#555555</td>\n",
       "      <td>0.5</td>\n",
       "      <td>Galavsa</td>\n",
       "      <td>None</td>\n",
       "      <td>POLYGON ((-79.94596 -2.08587, -79.93931 -2.082...</td>\n",
       "    </tr>\n",
       "    <tr>\n",
       "      <th>3</th>\n",
       "      <td>#555555</td>\n",
       "      <td>2.0</td>\n",
       "      <td>1.0</td>\n",
       "      <td>#555555</td>\n",
       "      <td>0.5</td>\n",
       "      <td>Parroquia Pedro Carbo</td>\n",
       "      <td>Parroquia Carbo</td>\n",
       "      <td>POLYGON ((-79.88000 -2.18365, -79.88074 -2.183...</td>\n",
       "    </tr>\n",
       "    <tr>\n",
       "      <th>4</th>\n",
       "      <td>None</td>\n",
       "      <td>NaN</td>\n",
       "      <td>NaN</td>\n",
       "      <td>None</td>\n",
       "      <td>NaN</td>\n",
       "      <td>Parroquia Olmedo</td>\n",
       "      <td>Parroquia Olmedo</td>\n",
       "      <td>POLYGON ((-79.88402 -2.20781, -79.88352 -2.205...</td>\n",
       "    </tr>\n",
       "  </tbody>\n",
       "</table>\n",
       "</div>"
      ],
      "text/plain": [
       "    stroke  stroke-width  stroke-opacity     fill  fill-opacity  \\\n",
       "0  #555555           2.0             1.0  #555555           0.5   \n",
       "1  #555555           2.0             1.0  #555555           0.5   \n",
       "2  #555555           2.0             1.0  #555555           0.5   \n",
       "3  #555555           2.0             1.0  #555555           0.5   \n",
       "4     None           NaN             NaN     None           NaN   \n",
       "\n",
       "                     Name       Description  \\\n",
       "0   Urbanizacion La Saiba              None   \n",
       "1  Ciudadela 9 de Octubre              None   \n",
       "2                 Galavsa              None   \n",
       "3   Parroquia Pedro Carbo   Parroquia Carbo   \n",
       "4        Parroquia Olmedo  Parroquia Olmedo   \n",
       "\n",
       "                                            geometry  \n",
       "0  POLYGON ((-79.89851 -2.22271, -79.89738 -2.230...  \n",
       "1  POLYGON ((-79.89676 -2.23578, -79.89084 -2.235...  \n",
       "2  POLYGON ((-79.94596 -2.08587, -79.93931 -2.082...  \n",
       "3  POLYGON ((-79.88000 -2.18365, -79.88074 -2.183...  \n",
       "4  POLYGON ((-79.88402 -2.20781, -79.88352 -2.205...  "
      ]
     },
     "execution_count": 50,
     "metadata": {},
     "output_type": "execute_result"
    }
   ],
   "source": [
    "gye_quito_gdf.head()"
   ]
  },
  {
   "cell_type": "code",
   "execution_count": 51,
   "metadata": {},
   "outputs": [],
   "source": [
    "gdf_hiper.crs = gye_quito_gdf.crs"
   ]
  },
  {
   "cell_type": "code",
   "execution_count": 52,
   "metadata": {},
   "outputs": [
    {
     "data": {
      "text/plain": [
       "(240, 8)"
      ]
     },
     "execution_count": 52,
     "metadata": {},
     "output_type": "execute_result"
    }
   ],
   "source": [
    "gye_quito_gdf.shape"
   ]
  },
  {
   "cell_type": "code",
   "execution_count": 53,
   "metadata": {},
   "outputs": [
    {
     "data": {
      "text/plain": [
       "(2443, 14)"
      ]
     },
     "execution_count": 53,
     "metadata": {},
     "output_type": "execute_result"
    }
   ],
   "source": [
    "gdf_hiper.shape"
   ]
  },
  {
   "cell_type": "code",
   "execution_count": 54,
   "metadata": {},
   "outputs": [
    {
     "data": {
      "text/plain": [
       "<Geographic 2D CRS: EPSG:4326>\n",
       "Name: WGS 84\n",
       "Axis Info [ellipsoidal]:\n",
       "- Lat[north]: Geodetic latitude (degree)\n",
       "- Lon[east]: Geodetic longitude (degree)\n",
       "Area of Use:\n",
       "- name: World.\n",
       "- bounds: (-180.0, -90.0, 180.0, 90.0)\n",
       "Datum: World Geodetic System 1984 ensemble\n",
       "- Ellipsoid: WGS 84\n",
       "- Prime Meridian: Greenwich"
      ]
     },
     "execution_count": 54,
     "metadata": {},
     "output_type": "execute_result"
    }
   ],
   "source": [
    "gdf_hiper.crs"
   ]
  },
  {
   "cell_type": "code",
   "execution_count": 55,
   "metadata": {},
   "outputs": [
    {
     "data": {
      "text/plain": [
       "<Geographic 2D CRS: EPSG:4326>\n",
       "Name: WGS 84\n",
       "Axis Info [ellipsoidal]:\n",
       "- Lat[north]: Geodetic latitude (degree)\n",
       "- Lon[east]: Geodetic longitude (degree)\n",
       "Area of Use:\n",
       "- name: World.\n",
       "- bounds: (-180.0, -90.0, 180.0, 90.0)\n",
       "Datum: World Geodetic System 1984 ensemble\n",
       "- Ellipsoid: WGS 84\n",
       "- Prime Meridian: Greenwich"
      ]
     },
     "execution_count": 55,
     "metadata": {},
     "output_type": "execute_result"
    }
   ],
   "source": [
    "gye_quito_gdf.crs"
   ]
  },
  {
   "cell_type": "code",
   "execution_count": 56,
   "metadata": {},
   "outputs": [
    {
     "name": "stderr",
     "output_type": "stream",
     "text": [
      "/home/kevinjlope/anaconda3/envs/IDS/lib/python3.9/site-packages/IPython/core/interactiveshell.py:3337: FutureWarning: The `op` parameter is deprecated and will be removed in a future release. Please use the `predicate` parameter instead.\n",
      "  if await self.run_code(code, result, async_=asy):\n"
     ]
    }
   ],
   "source": [
    "dfgeo = gpd.sjoin(gdf_hiper,gye_quito_gdf,how = \"inner\", op = \"within\")\n"
   ]
  },
  {
   "cell_type": "code",
   "execution_count": 57,
   "metadata": {},
   "outputs": [
    {
     "data": {
      "text/html": [
       "<div>\n",
       "<style scoped>\n",
       "    .dataframe tbody tr th:only-of-type {\n",
       "        vertical-align: middle;\n",
       "    }\n",
       "\n",
       "    .dataframe tbody tr th {\n",
       "        vertical-align: top;\n",
       "    }\n",
       "\n",
       "    .dataframe thead th {\n",
       "        text-align: right;\n",
       "    }\n",
       "</style>\n",
       "<table border=\"1\" class=\"dataframe\">\n",
       "  <thead>\n",
       "    <tr style=\"text-align: right;\">\n",
       "      <th></th>\n",
       "      <th>fecha_ingreso</th>\n",
       "      <th>grupo</th>\n",
       "      <th>cadena</th>\n",
       "      <th>comercio</th>\n",
       "      <th>estado</th>\n",
       "      <th>pais</th>\n",
       "      <th>region</th>\n",
       "      <th>provincia</th>\n",
       "      <th>ciudad</th>\n",
       "      <th>zona</th>\n",
       "      <th>...</th>\n",
       "      <th>longitud</th>\n",
       "      <th>geometry</th>\n",
       "      <th>index_right</th>\n",
       "      <th>stroke</th>\n",
       "      <th>stroke-width</th>\n",
       "      <th>stroke-opacity</th>\n",
       "      <th>fill</th>\n",
       "      <th>fill-opacity</th>\n",
       "      <th>Name</th>\n",
       "      <th>Description</th>\n",
       "    </tr>\n",
       "  </thead>\n",
       "  <tbody>\n",
       "    <tr>\n",
       "      <th>2219</th>\n",
       "      <td>2019-11-19</td>\n",
       "      <td>4</td>\n",
       "      <td>4</td>\n",
       "      <td>95798</td>\n",
       "      <td>1</td>\n",
       "      <td>1.0</td>\n",
       "      <td>2.0</td>\n",
       "      <td>4.0</td>\n",
       "      <td>24.0</td>\n",
       "      <td>3.0</td>\n",
       "      <td>...</td>\n",
       "      <td>-79.945549</td>\n",
       "      <td>POINT (-79.94555 -2.07012)</td>\n",
       "      <td>129</td>\n",
       "      <td>#555555</td>\n",
       "      <td>2.0</td>\n",
       "      <td>1.0</td>\n",
       "      <td>#555555</td>\n",
       "      <td>0.5</td>\n",
       "      <td>Cooperativa 5 de Diciembre</td>\n",
       "      <td>None</td>\n",
       "    </tr>\n",
       "    <tr>\n",
       "      <th>2237</th>\n",
       "      <td>2019-11-22</td>\n",
       "      <td>4</td>\n",
       "      <td>4</td>\n",
       "      <td>95824</td>\n",
       "      <td>1</td>\n",
       "      <td>1.0</td>\n",
       "      <td>2.0</td>\n",
       "      <td>4.0</td>\n",
       "      <td>24.0</td>\n",
       "      <td>2.0</td>\n",
       "      <td>...</td>\n",
       "      <td>-79.899513</td>\n",
       "      <td>POINT (-79.89951 -2.19750)</td>\n",
       "      <td>148</td>\n",
       "      <td>#555555</td>\n",
       "      <td>2.0</td>\n",
       "      <td>1.0</td>\n",
       "      <td>#555555</td>\n",
       "      <td>0.5</td>\n",
       "      <td>Parroquia Urdaneta</td>\n",
       "      <td>None</td>\n",
       "    </tr>\n",
       "    <tr>\n",
       "      <th>2238</th>\n",
       "      <td>2019-11-22</td>\n",
       "      <td>4</td>\n",
       "      <td>1492</td>\n",
       "      <td>95826</td>\n",
       "      <td>1</td>\n",
       "      <td>1.0</td>\n",
       "      <td>2.0</td>\n",
       "      <td>4.0</td>\n",
       "      <td>24.0</td>\n",
       "      <td>26.0</td>\n",
       "      <td>...</td>\n",
       "      <td>-79.886891</td>\n",
       "      <td>POINT (-79.88689 -2.22068)</td>\n",
       "      <td>31</td>\n",
       "      <td>#555555</td>\n",
       "      <td>2.0</td>\n",
       "      <td>1.0</td>\n",
       "      <td>#555555</td>\n",
       "      <td>0.5</td>\n",
       "      <td>Centenario</td>\n",
       "      <td>None</td>\n",
       "    </tr>\n",
       "    <tr>\n",
       "      <th>2247</th>\n",
       "      <td>2019-11-23</td>\n",
       "      <td>4</td>\n",
       "      <td>4</td>\n",
       "      <td>95834</td>\n",
       "      <td>1</td>\n",
       "      <td>1.0</td>\n",
       "      <td>2.0</td>\n",
       "      <td>4.0</td>\n",
       "      <td>24.0</td>\n",
       "      <td>26.0</td>\n",
       "      <td>...</td>\n",
       "      <td>-79.897726</td>\n",
       "      <td>POINT (-79.89773 -2.08128)</td>\n",
       "      <td>115</td>\n",
       "      <td>#555555</td>\n",
       "      <td>2.0</td>\n",
       "      <td>1.0</td>\n",
       "      <td>#555555</td>\n",
       "      <td>0.5</td>\n",
       "      <td>Geranios 1</td>\n",
       "      <td>None</td>\n",
       "    </tr>\n",
       "    <tr>\n",
       "      <th>2417</th>\n",
       "      <td>2019-12-24</td>\n",
       "      <td>4</td>\n",
       "      <td>1696</td>\n",
       "      <td>96268</td>\n",
       "      <td>1</td>\n",
       "      <td>1.0</td>\n",
       "      <td>2.0</td>\n",
       "      <td>4.0</td>\n",
       "      <td>701.0</td>\n",
       "      <td>2.0</td>\n",
       "      <td>...</td>\n",
       "      <td>-79.983942</td>\n",
       "      <td>POINT (-79.98394 -2.18255)</td>\n",
       "      <td>52</td>\n",
       "      <td>#555555</td>\n",
       "      <td>2.0</td>\n",
       "      <td>1.0</td>\n",
       "      <td>#555555</td>\n",
       "      <td>0.5</td>\n",
       "      <td>Portal al Sol</td>\n",
       "      <td>None</td>\n",
       "    </tr>\n",
       "  </tbody>\n",
       "</table>\n",
       "<p>5 rows × 22 columns</p>\n",
       "</div>"
      ],
      "text/plain": [
       "     fecha_ingreso  grupo  cadena  comercio estado  pais  region  provincia  \\\n",
       "2219    2019-11-19      4       4     95798      1   1.0     2.0        4.0   \n",
       "2237    2019-11-22      4       4     95824      1   1.0     2.0        4.0   \n",
       "2238    2019-11-22      4    1492     95826      1   1.0     2.0        4.0   \n",
       "2247    2019-11-23      4       4     95834      1   1.0     2.0        4.0   \n",
       "2417    2019-12-24      4    1696     96268      1   1.0     2.0        4.0   \n",
       "\n",
       "      ciudad  zona  ...   longitud                    geometry  index_right  \\\n",
       "2219    24.0   3.0  ... -79.945549  POINT (-79.94555 -2.07012)          129   \n",
       "2237    24.0   2.0  ... -79.899513  POINT (-79.89951 -2.19750)          148   \n",
       "2238    24.0  26.0  ... -79.886891  POINT (-79.88689 -2.22068)           31   \n",
       "2247    24.0  26.0  ... -79.897726  POINT (-79.89773 -2.08128)          115   \n",
       "2417   701.0   2.0  ... -79.983942  POINT (-79.98394 -2.18255)           52   \n",
       "\n",
       "       stroke  stroke-width stroke-opacity     fill  fill-opacity  \\\n",
       "2219  #555555           2.0            1.0  #555555           0.5   \n",
       "2237  #555555           2.0            1.0  #555555           0.5   \n",
       "2238  #555555           2.0            1.0  #555555           0.5   \n",
       "2247  #555555           2.0            1.0  #555555           0.5   \n",
       "2417  #555555           2.0            1.0  #555555           0.5   \n",
       "\n",
       "                            Name  Description  \n",
       "2219  Cooperativa 5 de Diciembre         None  \n",
       "2237          Parroquia Urdaneta         None  \n",
       "2238                  Centenario         None  \n",
       "2247                  Geranios 1         None  \n",
       "2417               Portal al Sol         None  \n",
       "\n",
       "[5 rows x 22 columns]"
      ]
     },
     "execution_count": 57,
     "metadata": {},
     "output_type": "execute_result"
    }
   ],
   "source": [
    "dfgeo.tail()"
   ]
  },
  {
   "cell_type": "code",
   "execution_count": 58,
   "metadata": {},
   "outputs": [
    {
     "data": {
      "text/plain": [
       "(526, 22)"
      ]
     },
     "execution_count": 58,
     "metadata": {},
     "output_type": "execute_result"
    }
   ],
   "source": [
    "dfgeo.shape"
   ]
  },
  {
   "cell_type": "code",
   "execution_count": 59,
   "metadata": {},
   "outputs": [],
   "source": [
    "same_columns = dfgeo.columns.intersection(ventas_tri1_df.columns)"
   ]
  },
  {
   "cell_type": "code",
   "execution_count": 60,
   "metadata": {},
   "outputs": [
    {
     "data": {
      "text/plain": [
       "Index(['grupo', 'cadena', 'comercio'], dtype='object')"
      ]
     },
     "execution_count": 60,
     "metadata": {},
     "output_type": "execute_result"
    }
   ],
   "source": [
    "same_columns"
   ]
  },
  {
   "cell_type": "code",
   "execution_count": 61,
   "metadata": {},
   "outputs": [],
   "source": [
    "cols_to_use = dfgeo.columns.difference(ventas_tri1_df.columns)\n"
   ]
  },
  {
   "cell_type": "code",
   "execution_count": 62,
   "metadata": {},
   "outputs": [
    {
     "data": {
      "text/plain": [
       "Index(['Description', 'Name', 'ciudad', 'ejecutivo', 'estado', 'fecha_ingreso',\n",
       "       'fill', 'fill-opacity', 'geometry', 'index_right', 'latitud',\n",
       "       'longitud', 'pais', 'provincia', 'region', 'stroke', 'stroke-opacity',\n",
       "       'stroke-width', 'zona'],\n",
       "      dtype='object')"
      ]
     },
     "execution_count": 62,
     "metadata": {},
     "output_type": "execute_result"
    }
   ],
   "source": [
    "cols_to_use"
   ]
  },
  {
   "cell_type": "code",
   "execution_count": 63,
   "metadata": {},
   "outputs": [
    {
     "data": {
      "text/plain": [
       "(43089, 30)"
      ]
     },
     "execution_count": 63,
     "metadata": {},
     "output_type": "execute_result"
    }
   ],
   "source": [
    "dfgeo_t1_merge = dfgeo.merge(ventas_tri1_df, on=same_columns.tolist(), how='inner')\n",
    "dfgeo_t2_merge = dfgeo.merge(ventas_tri2_df, on=same_columns.tolist(), how='inner')\n",
    "dfgeo_t3_merge = dfgeo.merge(ventas_tri3_df, on=same_columns.tolist(), how='inner')\n",
    "dfgeo_t4_merge = dfgeo.merge(ventas_tri4_df, on=same_columns.tolist(), how='inner')\n",
    "dfgeo_t1_merge.shape"
   ]
  },
  {
   "cell_type": "code",
   "execution_count": 64,
   "metadata": {},
   "outputs": [
    {
     "data": {
      "text/plain": [
       "(276523, 30)"
      ]
     },
     "execution_count": 64,
     "metadata": {},
     "output_type": "execute_result"
    }
   ],
   "source": [
    "dfgeo_t4_merge.shape"
   ]
  },
  {
   "cell_type": "code",
   "execution_count": 65,
   "metadata": {},
   "outputs": [],
   "source": [
    "dfgeo_t1_merge_region_2 = dfgeo_t1_merge.loc[dfgeo_t1_merge['region'] == 2.0]\n",
    "dfgeo_t2_merge_region_2 = dfgeo_t2_merge.loc[dfgeo_t2_merge['region'] == 2.0]\n",
    "dfgeo_t3_merge_region_2 = dfgeo_t3_merge.loc[dfgeo_t3_merge['region'] == 2.0]\n",
    "dfgeo_t4_merge_region_2 = dfgeo_t4_merge.loc[dfgeo_t4_merge['region'] == 2.0]"
   ]
  },
  {
   "cell_type": "code",
   "execution_count": 66,
   "metadata": {},
   "outputs": [
    {
     "data": {
      "text/plain": [
       "(31089, 30)"
      ]
     },
     "execution_count": 66,
     "metadata": {},
     "output_type": "execute_result"
    }
   ],
   "source": [
    "dfgeo_t1_merge_region_2.shape"
   ]
  },
  {
   "cell_type": "code",
   "execution_count": 67,
   "metadata": {},
   "outputs": [],
   "source": [
    "dfgeo_region_2_concat = pd.concat([dfgeo_t1_merge_region_2, dfgeo_t2_merge_region_2, dfgeo_t3_merge_region_2, dfgeo_t4_merge_region_2])"
   ]
  },
  {
   "cell_type": "code",
   "execution_count": 68,
   "metadata": {},
   "outputs": [
    {
     "data": {
      "text/plain": [
       "(230714, 30)"
      ]
     },
     "execution_count": 68,
     "metadata": {},
     "output_type": "execute_result"
    }
   ],
   "source": [
    "dfgeo_t4_merge_region_2.shape"
   ]
  },
  {
   "cell_type": "code",
   "execution_count": 74,
   "metadata": {},
   "outputs": [],
   "source": [
    "dfgeo_region_2_concat.to_csv(\"../../data/output/dfgeo_region_2_concat.zip\", index=False, compression=\"zip\")"
   ]
  },
  {
   "cell_type": "code",
   "execution_count": 70,
   "metadata": {},
   "outputs": [
    {
     "data": {
      "text/html": [
       "<div>\n",
       "<style scoped>\n",
       "    .dataframe tbody tr th:only-of-type {\n",
       "        vertical-align: middle;\n",
       "    }\n",
       "\n",
       "    .dataframe tbody tr th {\n",
       "        vertical-align: top;\n",
       "    }\n",
       "\n",
       "    .dataframe thead th {\n",
       "        text-align: right;\n",
       "    }\n",
       "</style>\n",
       "<table border=\"1\" class=\"dataframe\">\n",
       "  <thead>\n",
       "    <tr style=\"text-align: right;\">\n",
       "      <th></th>\n",
       "      <th>fecha_ingreso</th>\n",
       "      <th>grupo</th>\n",
       "      <th>cadena</th>\n",
       "      <th>comercio</th>\n",
       "      <th>estado</th>\n",
       "      <th>pais</th>\n",
       "      <th>region</th>\n",
       "      <th>provincia</th>\n",
       "      <th>ciudad</th>\n",
       "      <th>zona</th>\n",
       "      <th>...</th>\n",
       "      <th>Name</th>\n",
       "      <th>Description</th>\n",
       "      <th>fecha</th>\n",
       "      <th>hora</th>\n",
       "      <th>proveedor</th>\n",
       "      <th>producto</th>\n",
       "      <th>medio</th>\n",
       "      <th>total</th>\n",
       "      <th>cliente_final</th>\n",
       "      <th>saldo_despues</th>\n",
       "    </tr>\n",
       "  </thead>\n",
       "  <tbody>\n",
       "    <tr>\n",
       "      <th>490</th>\n",
       "      <td>2019-01-03</td>\n",
       "      <td>4</td>\n",
       "      <td>4</td>\n",
       "      <td>90093</td>\n",
       "      <td>0</td>\n",
       "      <td>1.0</td>\n",
       "      <td>2.0</td>\n",
       "      <td>4.0</td>\n",
       "      <td>24.0</td>\n",
       "      <td>26.0</td>\n",
       "      <td>...</td>\n",
       "      <td>Rosales</td>\n",
       "      <td>None</td>\n",
       "      <td>2019-01-17</td>\n",
       "      <td>18:24:06</td>\n",
       "      <td>5.0</td>\n",
       "      <td>2.0</td>\n",
       "      <td>78</td>\n",
       "      <td>1.0</td>\n",
       "      <td>%..)!!.!*'</td>\n",
       "      <td>8.93</td>\n",
       "    </tr>\n",
       "    <tr>\n",
       "      <th>491</th>\n",
       "      <td>2019-01-03</td>\n",
       "      <td>4</td>\n",
       "      <td>4</td>\n",
       "      <td>90093</td>\n",
       "      <td>0</td>\n",
       "      <td>1.0</td>\n",
       "      <td>2.0</td>\n",
       "      <td>4.0</td>\n",
       "      <td>24.0</td>\n",
       "      <td>26.0</td>\n",
       "      <td>...</td>\n",
       "      <td>Rosales</td>\n",
       "      <td>None</td>\n",
       "      <td>2019-01-25</td>\n",
       "      <td>10:12:50</td>\n",
       "      <td>83.0</td>\n",
       "      <td>2.0</td>\n",
       "      <td>78</td>\n",
       "      <td>3.0</td>\n",
       "      <td>%.!---'&amp;.-</td>\n",
       "      <td>9.18</td>\n",
       "    </tr>\n",
       "    <tr>\n",
       "      <th>492</th>\n",
       "      <td>2019-01-03</td>\n",
       "      <td>4</td>\n",
       "      <td>4</td>\n",
       "      <td>90093</td>\n",
       "      <td>0</td>\n",
       "      <td>1.0</td>\n",
       "      <td>2.0</td>\n",
       "      <td>4.0</td>\n",
       "      <td>24.0</td>\n",
       "      <td>26.0</td>\n",
       "      <td>...</td>\n",
       "      <td>Rosales</td>\n",
       "      <td>None</td>\n",
       "      <td>2019-01-25</td>\n",
       "      <td>10:11:45</td>\n",
       "      <td>83.0</td>\n",
       "      <td>2.0</td>\n",
       "      <td>78</td>\n",
       "      <td>10.0</td>\n",
       "      <td>%.!-!-&amp;.'%</td>\n",
       "      <td>18.73</td>\n",
       "    </tr>\n",
       "    <tr>\n",
       "      <th>493</th>\n",
       "      <td>2019-01-03</td>\n",
       "      <td>4</td>\n",
       "      <td>4</td>\n",
       "      <td>90093</td>\n",
       "      <td>0</td>\n",
       "      <td>1.0</td>\n",
       "      <td>2.0</td>\n",
       "      <td>4.0</td>\n",
       "      <td>24.0</td>\n",
       "      <td>26.0</td>\n",
       "      <td>...</td>\n",
       "      <td>Rosales</td>\n",
       "      <td>None</td>\n",
       "      <td>2019-01-21</td>\n",
       "      <td>18:11:47</td>\n",
       "      <td>5.0</td>\n",
       "      <td>15.0</td>\n",
       "      <td>78</td>\n",
       "      <td>1.0</td>\n",
       "      <td>%.-%)+%)-%</td>\n",
       "      <td>37.58</td>\n",
       "    </tr>\n",
       "    <tr>\n",
       "      <th>494</th>\n",
       "      <td>2019-01-03</td>\n",
       "      <td>4</td>\n",
       "      <td>4</td>\n",
       "      <td>90093</td>\n",
       "      <td>0</td>\n",
       "      <td>1.0</td>\n",
       "      <td>2.0</td>\n",
       "      <td>4.0</td>\n",
       "      <td>24.0</td>\n",
       "      <td>26.0</td>\n",
       "      <td>...</td>\n",
       "      <td>Rosales</td>\n",
       "      <td>None</td>\n",
       "      <td>2019-01-12</td>\n",
       "      <td>10:02:09</td>\n",
       "      <td>5.0</td>\n",
       "      <td>15.0</td>\n",
       "      <td>78</td>\n",
       "      <td>3.0</td>\n",
       "      <td>%..'%((*%+</td>\n",
       "      <td>34.57</td>\n",
       "    </tr>\n",
       "  </tbody>\n",
       "</table>\n",
       "<p>5 rows × 30 columns</p>\n",
       "</div>"
      ],
      "text/plain": [
       "    fecha_ingreso  grupo  cadena  comercio estado  pais  region  provincia  \\\n",
       "490    2019-01-03      4       4     90093      0   1.0     2.0        4.0   \n",
       "491    2019-01-03      4       4     90093      0   1.0     2.0        4.0   \n",
       "492    2019-01-03      4       4     90093      0   1.0     2.0        4.0   \n",
       "493    2019-01-03      4       4     90093      0   1.0     2.0        4.0   \n",
       "494    2019-01-03      4       4     90093      0   1.0     2.0        4.0   \n",
       "\n",
       "     ciudad  zona  ...     Name  Description       fecha      hora  proveedor  \\\n",
       "490    24.0  26.0  ...  Rosales         None  2019-01-17  18:24:06        5.0   \n",
       "491    24.0  26.0  ...  Rosales         None  2019-01-25  10:12:50       83.0   \n",
       "492    24.0  26.0  ...  Rosales         None  2019-01-25  10:11:45       83.0   \n",
       "493    24.0  26.0  ...  Rosales         None  2019-01-21  18:11:47        5.0   \n",
       "494    24.0  26.0  ...  Rosales         None  2019-01-12  10:02:09        5.0   \n",
       "\n",
       "    producto  medio  total cliente_final  saldo_despues  \n",
       "490      2.0     78    1.0    %..)!!.!*'           8.93  \n",
       "491      2.0     78    3.0    %.!---'&.-           9.18  \n",
       "492      2.0     78   10.0    %.!-!-&.'%          18.73  \n",
       "493     15.0     78    1.0    %.-%)+%)-%          37.58  \n",
       "494     15.0     78    3.0    %..'%((*%+          34.57  \n",
       "\n",
       "[5 rows x 30 columns]"
      ]
     },
     "execution_count": 70,
     "metadata": {},
     "output_type": "execute_result"
    }
   ],
   "source": [
    "dfgeo_region_2_concat.head()"
   ]
  },
  {
   "cell_type": "code",
   "execution_count": 75,
   "metadata": {},
   "outputs": [
    {
     "data": {
      "text/plain": [
       "(520081, 30)"
      ]
     },
     "execution_count": 75,
     "metadata": {},
     "output_type": "execute_result"
    },
    {
     "ename": "",
     "evalue": "",
     "output_type": "error",
     "traceback": [
      "The Kernel crashed while executing code in the the current cell or a previous cell. Please review the code in the cell(s) to identify a possible cause of the failure. Click <a href='https://aka.ms/vscodeJupyterKernelCrash'>here</a> for more info. View Jupyter <a href='command:jupyter.viewOutput'>log</a> for further details."
     ]
    }
   ],
   "source": [
    "dfgeo_region_2_concat.shape"
   ]
  },
  {
   "cell_type": "code",
   "execution_count": 72,
   "metadata": {},
   "outputs": [
    {
     "data": {
      "text/plain": [
       "fecha_ingreso          0\n",
       "grupo                  0\n",
       "cadena                 0\n",
       "comercio               0\n",
       "estado                 0\n",
       "pais                   0\n",
       "region                 0\n",
       "provincia              0\n",
       "ciudad                 0\n",
       "zona                   0\n",
       "ejecutivo              0\n",
       "latitud                0\n",
       "longitud               0\n",
       "geometry               0\n",
       "index_right            0\n",
       "stroke               861\n",
       "stroke-width         861\n",
       "stroke-opacity       861\n",
       "fill                 861\n",
       "fill-opacity         861\n",
       "Name                   0\n",
       "Description       517359\n",
       "fecha                  0\n",
       "hora                   0\n",
       "proveedor              0\n",
       "producto               0\n",
       "medio                  0\n",
       "total                  1\n",
       "cliente_final          0\n",
       "saldo_despues          0\n",
       "dtype: int64"
      ]
     },
     "execution_count": 72,
     "metadata": {},
     "output_type": "execute_result"
    }
   ],
   "source": [
    "dfgeo_region_2_concat.isna().sum()"
   ]
  },
  {
   "cell_type": "code",
   "execution_count": 71,
   "metadata": {},
   "outputs": [],
   "source": [
    "# dfgeo_t1_merge = dfgeo.merge(ventas_tri1_df, left_on=same_columns.tolist(), right_on=same_columns.tolist(), how='inner')\n",
    "# dfgeo_t2_merge = dfgeo.merge(ventas_tri2_df, left_on=same_columns.tolist(), right_on=same_columns.tolist(), how='inner')\n",
    "# dfgeo_t3_merge = dfgeo.merge(ventas_tri3_df, left_on=same_columns.tolist(), right_on=same_columns.tolist(), how='inner')\n",
    "# dfgeo_t4_merge = dfgeo.merge(ventas_tri4_df, left_on=same_columns.tolist(), right_on=same_columns.tolist(), how='inner')\n",
    "\n",
    "# dfgeo_t1_merge.shape\n"
   ]
  }
 ],
 "metadata": {
  "kernelspec": {
   "display_name": "Python 3.9.13 ('IDS')",
   "language": "python",
   "name": "python3"
  },
  "language_info": {
   "codemirror_mode": {
    "name": "ipython",
    "version": 3
   },
   "file_extension": ".py",
   "mimetype": "text/x-python",
   "name": "python",
   "nbconvert_exporter": "python",
   "pygments_lexer": "ipython3",
   "version": "3.9.13"
  },
  "orig_nbformat": 4,
  "vscode": {
   "interpreter": {
    "hash": "900ef9610070059a0f516505ce49e984299170ce07d5203544db7af5232337b8"
   }
  }
 },
 "nbformat": 4,
 "nbformat_minor": 2
}
